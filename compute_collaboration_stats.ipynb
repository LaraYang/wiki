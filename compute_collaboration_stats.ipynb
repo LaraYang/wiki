{
 "cells": [
  {
   "cell_type": "code",
   "execution_count": 4,
   "metadata": {
    "ExecuteTime": {
     "end_time": "2022-01-20T21:45:25.521674Z",
     "start_time": "2022-01-20T21:45:25.519378Z"
    }
   },
   "outputs": [],
   "source": [
    "import redivis\n",
    "user = redivis.user(\"stanfordgsblibrary\")\n",
    "dataset = user.dataset(\"wikipedia_change_metadata\")\n",
    "table = dataset.table(\"metadata\")"
   ]
  },
  {
   "cell_type": "markdown",
   "metadata": {},
   "source": [
    "### Connecting to Redivis and Downloading Data"
   ]
  },
  {
   "cell_type": "code",
   "execution_count": 14,
   "metadata": {
    "ExecuteTime": {
     "end_time": "2022-01-20T22:15:28.578806Z",
     "start_time": "2022-01-20T22:15:05.516711Z"
    }
   },
   "outputs": [],
   "source": [
    "# Load table as a dataframe\n",
    "df = table.to_dataframe(max_results=1000000, variables=['id','page_id', 'timestamp', 'cont_username'])"
   ]
  },
  {
   "cell_type": "code",
   "execution_count": 15,
   "metadata": {
    "ExecuteTime": {
     "end_time": "2022-01-21T00:29:29.168053Z",
     "start_time": "2022-01-20T22:21:20.858370Z"
    }
   },
   "outputs": [],
   "source": [
    "# Load table as a dataframe\n",
    "df = table.to_dataframe(variables=['id','page_id', 'timestamp', 'cont_username'])"
   ]
  },
  {
   "cell_type": "code",
   "execution_count": 18,
   "metadata": {
    "ExecuteTime": {
     "end_time": "2022-01-21T00:33:29.534758Z",
     "start_time": "2022-01-21T00:32:45.189030Z"
    }
   },
   "outputs": [],
   "source": [
    "df = df[df['cont_username'] != '<NA>']"
   ]
  },
  {
   "cell_type": "code",
   "execution_count": 23,
   "metadata": {
    "ExecuteTime": {
     "end_time": "2022-01-21T01:12:00.356239Z",
     "start_time": "2022-01-21T00:54:35.571971Z"
    }
   },
   "outputs": [],
   "source": [
    "df.to_csv(\"/Volumes/Extrema/wiki/article_data/article_metadata_shortened.csv\", index=False)"
   ]
  },
  {
   "cell_type": "code",
   "execution_count": 26,
   "metadata": {
    "ExecuteTime": {
     "end_time": "2022-01-21T01:21:23.435023Z",
     "start_time": "2022-01-21T01:19:05.563482Z"
    }
   },
   "outputs": [],
   "source": [
    "page_authors = df[['cont_username', 'page_id']].drop_duplicates()"
   ]
  },
  {
   "cell_type": "code",
   "execution_count": 29,
   "metadata": {
    "ExecuteTime": {
     "end_time": "2022-01-21T01:41:49.999349Z",
     "start_time": "2022-01-21T01:38:49.447701Z"
    }
   },
   "outputs": [],
   "source": [
    "page_authors.to_csv('page_author_only.csv', index=False)"
   ]
  },
  {
   "cell_type": "markdown",
   "metadata": {},
   "source": [
    "### Loading Data and Computing Stats"
   ]
  },
  {
   "cell_type": "code",
   "execution_count": 1,
   "metadata": {
    "ExecuteTime": {
     "end_time": "2022-03-11T21:58:59.023895Z",
     "start_time": "2022-03-11T21:58:19.795376Z"
    }
   },
   "outputs": [],
   "source": [
    "import pandas as pd\n",
    "import random\n",
    "\n",
    "page_authors = pd.read_csv('/Users/Lara/Documents/Stanford/Research/Network/processed_data/page_author_only.csv')"
   ]
  },
  {
   "cell_type": "code",
   "execution_count": 2,
   "metadata": {
    "ExecuteTime": {
     "end_time": "2022-03-11T22:02:31.037970Z",
     "start_time": "2022-03-11T21:58:59.025510Z"
    }
   },
   "outputs": [],
   "source": [
    "author2pages = page_authors.groupby('cont_username')['page_id'].apply(list).to_dict()"
   ]
  },
  {
   "cell_type": "code",
   "execution_count": 3,
   "metadata": {
    "ExecuteTime": {
     "end_time": "2022-03-11T22:10:48.444337Z",
     "start_time": "2022-03-11T22:02:31.039601Z"
    }
   },
   "outputs": [],
   "source": [
    "page2num_authors = page_authors.groupby('page_id')['cont_username'].apply(list).apply(len).to_dict()"
   ]
  },
  {
   "cell_type": "code",
   "execution_count": 4,
   "metadata": {
    "ExecuteTime": {
     "end_time": "2022-03-11T22:10:50.809709Z",
     "start_time": "2022-03-11T22:10:48.445817Z"
    }
   },
   "outputs": [],
   "source": [
    "author2num_pages = {k:len(v) for k, v in author2pages.items()}"
   ]
  },
  {
   "cell_type": "code",
   "execution_count": 18,
   "metadata": {
    "ExecuteTime": {
     "end_time": "2022-03-12T00:07:58.013347Z",
     "start_time": "2022-03-12T00:07:58.008868Z"
    }
   },
   "outputs": [],
   "source": [
    "bots_df = pd.read_csv('/Users/Lara/Documents/Stanford/Research/Network/processed_data/all_bots.csv')\n",
    "bots = bots_df['0'].to_list()"
   ]
  },
  {
   "cell_type": "code",
   "execution_count": 22,
   "metadata": {
    "ExecuteTime": {
     "end_time": "2022-03-12T00:52:16.591950Z",
     "start_time": "2022-03-12T00:46:48.724656Z"
    }
   },
   "outputs": [],
   "source": [
    "page_humans = page_authors.loc[~page_authors[\"cont_username\"].isin(bots)]\n",
    "page2num_humans = page_humans.groupby('page_id')['cont_username'].apply(len).to_dict()"
   ]
  },
  {
   "cell_type": "markdown",
   "metadata": {},
   "source": [
    "### Plotting"
   ]
  },
  {
   "cell_type": "code",
   "execution_count": 30,
   "metadata": {
    "ExecuteTime": {
     "end_time": "2022-03-12T01:29:21.327354Z",
     "start_time": "2022-03-12T01:29:19.574571Z"
    }
   },
   "outputs": [
    {
     "data": {
      "image/png": "[encoded data removed]",
      "text/plain": [
       "<Figure size 432x288 with 1 Axes>"
      ]
     },
     "metadata": {
      "needs_background": "light"
     },
     "output_type": "display_data"
    }
   ],
   "source": [
    "import matplotlib.pyplot as plt\n",
    "authors = list(page2num_authors.values())\n",
    "\n",
    "plt.hist(authors, bins=100)\n",
    "plt.ylabel('Number of Pages')\n",
    "plt.xlabel('Authors per Page');"
   ]
  },
  {
   "cell_type": "code",
   "execution_count": 31,
   "metadata": {
    "ExecuteTime": {
     "end_time": "2022-03-12T01:29:34.620480Z",
     "start_time": "2022-03-12T01:29:32.994000Z"
    }
   },
   "outputs": [
    {
     "data": {
      "image/png": "[encoded data removed]",
      "text/plain": [
       "<Figure size 432x288 with 1 Axes>"
      ]
     },
     "metadata": {
      "needs_background": "light"
     },
     "output_type": "display_data"
    }
   ],
   "source": [
    "authors_no_bots = list(page2num_humans.values())\n",
    "plt.hist(authors_no_bots, bins=100)\n",
    "plt.ylabel('Number of Pages')\n",
    "plt.xlabel('Human Authors per Page');"
   ]
  },
  {
   "cell_type": "code",
   "execution_count": 34,
   "metadata": {
    "ExecuteTime": {
     "end_time": "2022-03-12T01:31:11.800521Z",
     "start_time": "2022-03-12T01:31:09.909158Z"
    }
   },
   "outputs": [
    {
     "data": {
      "image/png": "[encoded data removed]",
      "text/plain": [
       "<Figure size 432x288 with 1 Axes>"
      ]
     },
     "metadata": {
      "needs_background": "light"
     },
     "output_type": "display_data"
    }
   ],
   "source": [
    "truncated_authors = [i for i in authors_no_bots if i <= 80]\n",
    "plt.hist(truncated_authors, bins=80)\n",
    "plt.ylabel('Number of Pages')\n",
    "plt.xlabel('Human Authors per Page');"
   ]
  },
  {
   "cell_type": "code",
   "execution_count": 43,
   "metadata": {
    "ExecuteTime": {
     "end_time": "2022-03-12T01:33:50.890767Z",
     "start_time": "2022-03-12T01:33:49.370207Z"
    }
   },
   "outputs": [
    {
     "data": {
      "image/png": "[encoded data removed]",
      "text/plain": [
       "<Figure size 432x288 with 1 Axes>"
      ]
     },
     "metadata": {
      "needs_background": "light"
     },
     "output_type": "display_data"
    }
   ],
   "source": [
    "truncated_authors = [i for i in authors_no_bots if i <= 10]\n",
    "plt.hist(truncated_authors, bins=10)\n",
    "plt.ylabel('Number of Pages')\n",
    "plt.xlabel('Human Authors per Page');"
   ]
  },
  {
   "cell_type": "code",
   "execution_count": 16,
   "metadata": {
    "ExecuteTime": {
     "end_time": "2022-01-24T06:23:39.355790Z",
     "start_time": "2022-01-24T06:23:38.371970Z"
    }
   },
   "outputs": [
    {
     "data": {
      "image/png": "[encoded data removed]",
      "text/plain": [
       "<Figure size 432x288 with 1 Axes>"
      ]
     },
     "metadata": {
      "needs_background": "light"
     },
     "output_type": "display_data"
    }
   ],
   "source": [
    "pages = list(author2num_pages.values())\n",
    "plt.hist(pages, bins=100)\n",
    "plt.ylabel('Number of Authors')\n",
    "plt.xlabel('Pages worked on Per Author');"
   ]
  },
  {
   "cell_type": "code",
   "execution_count": 27,
   "metadata": {
    "ExecuteTime": {
     "end_time": "2022-03-12T01:27:08.095181Z",
     "start_time": "2022-03-12T01:23:16.496047Z"
    }
   },
   "outputs": [],
   "source": [
    "humans2pages = page_humans.groupby('cont_username')['page_id'].apply(list).to_dict()\n",
    "humans2num_pages = {k:len(v) for k, v in humans2pages.items()}"
   ]
  },
  {
   "cell_type": "code",
   "execution_count": 28,
   "metadata": {
    "ExecuteTime": {
     "end_time": "2022-03-12T01:27:20.118251Z",
     "start_time": "2022-03-12T01:27:18.958056Z"
    }
   },
   "outputs": [
    {
     "data": {
      "image/png": "[encoded data removed]",
      "text/plain": [
       "<Figure size 432x288 with 1 Axes>"
      ]
     },
     "metadata": {
      "needs_background": "light"
     },
     "output_type": "display_data"
    }
   ],
   "source": [
    "pages = list(humans2num_pages.values())\n",
    "plt.hist(pages, bins=100)\n",
    "plt.ylabel('Number of Human Authors')\n",
    "plt.xlabel('Pages worked on Per Human Author');"
   ]
  },
  {
   "cell_type": "code",
   "execution_count": 55,
   "metadata": {
    "ExecuteTime": {
     "end_time": "2022-03-12T01:41:08.606509Z",
     "start_time": "2022-03-12T01:41:07.494252Z"
    }
   },
   "outputs": [
    {
     "data": {
      "image/png": "[encoded data removed]",
      "text/plain": [
       "<Figure size 432x288 with 1 Axes>"
      ]
     },
     "metadata": {
      "needs_background": "light"
     },
     "output_type": "display_data"
    }
   ],
   "source": [
    "truncated_pages = [p for p in pages if p <= 50]\n",
    "plt.hist(truncated_pages, bins=50)\n",
    "plt.ylabel('Number of Human Authors')\n",
    "plt.xlabel('Pages worked on Per Human Author');"
   ]
  },
  {
   "cell_type": "code",
   "execution_count": 56,
   "metadata": {
    "ExecuteTime": {
     "end_time": "2022-03-12T01:41:15.184216Z",
     "start_time": "2022-03-12T01:41:14.176465Z"
    }
   },
   "outputs": [
    {
     "data": {
      "image/png": "[encoded data removed]",
      "text/plain": [
       "<Figure size 432x288 with 1 Axes>"
      ]
     },
     "metadata": {
      "needs_background": "light"
     },
     "output_type": "display_data"
    }
   ],
   "source": [
    "truncated_pages = [p for p in pages if p <= 10]\n",
    "plt.hist(truncated_pages, bins=10)\n",
    "plt.ylabel('Number of Human Authors')\n",
    "plt.xlabel('Pages worked on Per Human Author');"
   ]
  },
  {
   "cell_type": "markdown",
   "metadata": {},
   "source": [
    "### Dyad Calculations"
   ]
  },
  {
   "cell_type": "code",
   "execution_count": 59,
   "metadata": {
    "ExecuteTime": {
     "end_time": "2022-03-13T20:56:52.281160Z",
     "start_time": "2022-03-13T20:56:50.556246Z"
    }
   },
   "outputs": [
    {
     "name": "stdout",
     "output_type": "stream",
     "text": [
      "9193355 pages out of 14450551 pages had more than one author, about 63.62%\n",
      "7402126 pages out of 14450551 pages had more than one human author, about 51.22%\n",
      "3923861 pages out of 14450551 pages had more than ten author, about 27.15%\n",
      "3146415 pages out of 14450551 pages had more than ten human author, about 21.77%\n"
     ]
    }
   ],
   "source": [
    "multi_author_2 = sum([1 for a in authors if a > 1])\n",
    "human_author_2 = sum([1 for a in authors_no_bots if a > 1])\n",
    "multi_author_10 = sum([1 for a in authors if a > 10])\n",
    "human_author_10 = sum([1 for a in authors_no_bots if a > 10])\n",
    "\n",
    "print('{} pages out of {} pages had more than one author, about {}%'.format(\n",
    "    multi_author_2, len(authors), round(100*(multi_author_2/len(authors)), 2)))\n",
    "\n",
    "print('{} pages out of {} pages had more than one human author, about {}%'.format(\n",
    "    human_author_2, len(authors), round(100*(human_author_2/len(authors)), 2)))\n",
    "\n",
    "print('{} pages out of {} pages had more than ten author, about {}%'.format(\n",
    "    multi_author_10, len(authors), round(100*(multi_author_10/len(authors)), 2)))\n",
    "\n",
    "print('{} pages out of {} pages had more than ten human author, about {}%'.format(\n",
    "    human_author_10, len(authors), round(100*(human_author_10/len(authors)), 2)))"
   ]
  },
  {
   "cell_type": "code",
   "execution_count": 30,
   "metadata": {
    "ExecuteTime": {
     "end_time": "2022-01-24T06:32:12.018553Z",
     "start_time": "2022-01-24T06:32:05.772449Z"
    }
   },
   "outputs": [],
   "source": [
    "import random\n",
    "random_subset = dict(random.sample(author2pages.items(), int(len(author2pages)/1000)))"
   ]
  },
  {
   "cell_type": "code",
   "execution_count": 31,
   "metadata": {
    "ExecuteTime": {
     "end_time": "2022-01-24T06:34:54.667744Z",
     "start_time": "2022-01-24T06:33:53.078189Z"
    }
   },
   "outputs": [
    {
     "name": "stderr",
     "output_type": "stream",
     "text": [
      "100%|██████████| 7373/7373 [01:01<00:00, 119.74it/s]\n"
     ]
    }
   ],
   "source": [
    "from tqdm import tqdm\n",
    "dyad2collabs = defaultdict(int)\n",
    "for i, i_pages in tqdm(random_subset.items()):\n",
    "    for j, j_pages in random_subset.items():\n",
    "        if i != j and (j, i) not in dyad2collabs:\n",
    "                dyad2collabs[(i, j)] = len(set(i_pages) & set(j_pages))"
   ]
  },
  {
   "cell_type": "code",
   "execution_count": 32,
   "metadata": {
    "ExecuteTime": {
     "end_time": "2022-01-24T06:36:07.716186Z",
     "start_time": "2022-01-24T06:36:06.888544Z"
    }
   },
   "outputs": [],
   "source": [
    "multi_collab_dyads = sum([1 for dyad, collabs in dyad2collabs.items() if collabs > 1])"
   ]
  },
  {
   "cell_type": "code",
   "execution_count": 38,
   "metadata": {
    "ExecuteTime": {
     "end_time": "2022-01-24T06:40:12.735506Z",
     "start_time": "2022-01-24T06:40:12.733192Z"
    }
   },
   "outputs": [
    {
     "name": "stdout",
     "output_type": "stream",
     "text": [
      "612 out of 27176878 dyads had worked on more than one page together, about 0.002%\n"
     ]
    }
   ],
   "source": [
    "print('{} out of {} dyads had worked on more than one page together, about {}%'.format(\n",
    "    multi_collab_dyads, len(dyad2collabs), round(100*(multi_collab_dyads/len(dyad2collabs)), 3)))"
   ]
  },
  {
   "cell_type": "code",
   "execution_count": 63,
   "metadata": {
    "ExecuteTime": {
     "end_time": "2022-03-13T21:47:55.140831Z",
     "start_time": "2022-03-13T21:47:44.080136Z"
    }
   },
   "outputs": [],
   "source": [
    "random_subset = dict(random.sample(humans2pages.items(), int(len(humans2pages)/1000)))"
   ]
  },
  {
   "cell_type": "code",
   "execution_count": 66,
   "metadata": {
    "ExecuteTime": {
     "end_time": "2022-03-13T21:50:05.631421Z",
     "start_time": "2022-03-13T21:48:52.951837Z"
    }
   },
   "outputs": [
    {
     "name": "stderr",
     "output_type": "stream",
     "text": [
      "100%|██████████| 7372/7372 [01:12<00:00, 101.44it/s]\n"
     ]
    }
   ],
   "source": [
    "from tqdm import tqdm\n",
    "from collections import defaultdict\n",
    "human_dyad2collabs = defaultdict(int)\n",
    "for i, i_pages in tqdm(random_subset.items()):\n",
    "    for j, j_pages in random_subset.items():\n",
    "        if i != j and (j, i) not in human_dyad2collabs:\n",
    "                human_dyad2collabs[(i, j)] = len(set(i_pages) & set(j_pages))"
   ]
  },
  {
   "cell_type": "code",
   "execution_count": 69,
   "metadata": {
    "ExecuteTime": {
     "end_time": "2022-03-13T22:07:07.369851Z",
     "start_time": "2022-03-13T22:07:04.403280Z"
    }
   },
   "outputs": [
    {
     "name": "stdout",
     "output_type": "stream",
     "text": [
      "27164833 out of 27169506 dyads had worked on no page together, about 99.983%\n",
      "3978 out of 27169506 dyads had worked on exactly one page together, about 0.015%\n",
      "695 out of 27169506 dyads had worked on more than one page together, about 0.003%\n"
     ]
    }
   ],
   "source": [
    "collab_human_dyads = sum([1 for dyad, collabs in human_dyad2collabs.items() if collabs == 0])\n",
    "print('{} out of {} dyads had worked on no page together, about {}%'.format(\n",
    "    collab_human_dyads, len(human_dyad2collabs), round(100*(collab_human_dyads/len(human_dyad2collabs)), 3)))\n",
    "\n",
    "collab_human_dyads = sum([1 for dyad, collabs in human_dyad2collabs.items() if collabs == 1])\n",
    "print('{} out of {} dyads had worked on exactly one page together, about {}%'.format(\n",
    "    collab_human_dyads, len(human_dyad2collabs), round(100*(collab_human_dyads/len(human_dyad2collabs)), 3)))\n",
    "\n",
    "collab_human_dyads = sum([1 for dyad, collabs in human_dyad2collabs.items() if collabs > 1])\n",
    "print('{} out of {} dyads had worked on more than one page together, about {}%'.format(\n",
    "    collab_human_dyads, len(human_dyad2collabs), round(100*(collab_human_dyads/len(human_dyad2collabs)), 3)))"
   ]
  },
  {
   "cell_type": "code",
   "execution_count": null,
   "metadata": {},
   "outputs": [],
   "source": []
  }
 ],
 "metadata": {
  "kernelspec": {
   "display_name": "Python 3",
   "language": "python",
   "name": "python3"
  },
  "language_info": {
   "codemirror_mode": {
    "name": "ipython",
    "version": 3
   },
   "file_extension": ".py",
   "mimetype": "text/x-python",
   "name": "python",
   "nbconvert_exporter": "python",
   "pygments_lexer": "ipython3",
   "version": "3.7.3"
  }
 },
 "nbformat": 4,
 "nbformat_minor": 2
}
