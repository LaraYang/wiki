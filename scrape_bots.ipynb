{
 "cells": [
  {
   "cell_type": "code",
   "execution_count": 5,
   "metadata": {
    "ExecuteTime": {
     "end_time": "2022-03-11T22:56:15.195824Z",
     "start_time": "2022-03-11T22:56:15.193587Z"
    }
   },
   "outputs": [],
   "source": [
    "import bs4\n",
    "from bs4 import BeautifulSoup\n",
    "import requests\n",
    "import pandas as pd\n",
    "import re\n",
    "from datetime import datetime\n",
    "import os\n"
   ]
  },
  {
   "cell_type": "code",
   "execution_count": 33,
   "metadata": {
    "ExecuteTime": {
     "end_time": "2022-03-11T23:14:24.652142Z",
     "start_time": "2022-03-11T23:14:20.968326Z"
    }
   },
   "outputs": [],
   "source": [
    "next_avail = True\n",
    "link = \"https://en.wikipedia.org/wiki/Special:ListUsers/bot\"\n",
    "stem = \"https://en.wikipedia.org/\"\n",
    "page_num = 1\n",
    "curr_bots = []\n",
    "while (next_avail):\n",
    "    if page_num % 100 == 0:\n",
    "        print('Parsing page #{}'.format(page_num))\n",
    "    page = requests.get(link)\n",
    "    soup = BeautifulSoup(page.content, 'html.parser')\n",
    "    l = soup.find_all('ul')[1]\n",
    "    items = l.find_all('li')\n",
    "    for i in items:\n",
    "        bot = i.find('bdi').text\n",
    "        bots.append(bot)\n",
    "    next_link = soup.find('a', {\"class\":\"mw-nextlink\"})\n",
    "    if next_link:\n",
    "        link = stem + next_link['href']\n",
    "        page_num += 1\n",
    "    else:\n",
    "        next_avail = False        "
   ]
  },
  {
   "cell_type": "code",
   "execution_count": 83,
   "metadata": {
    "ExecuteTime": {
     "end_time": "2022-03-11T23:57:18.752062Z",
     "start_time": "2022-03-11T23:57:08.184764Z"
    }
   },
   "outputs": [],
   "source": [
    "next_avail = True\n",
    "link = 'https://en.wikipedia.org/wiki/Category:All_Wikipedia_bots'\n",
    "stem = \"https://en.wikipedia.org/\"\n",
    "page_num = 1\n",
    "bots = []\n",
    "while (next_avail):\n",
    "    if page_num % 100 == 0:\n",
    "        print('Parsing page #{}'.format(page_num))\n",
    "    page = requests.get(link)\n",
    "    soup = BeautifulSoup(page.content, 'html.parser')\n",
    "    lists = soup.find_all('ul')\n",
    "    for l in lists:        \n",
    "        items = l.find_all('li')\n",
    "        for i in items:\n",
    "            maybe_bot = i.text\n",
    "            if 'User:' in maybe_bot:\n",
    "                bots.append(maybe_bot[5:])\n",
    "    next_link = soup.find(text='next page')\n",
    "    if next_link:\n",
    "        link = stem + next_link.parent['href']\n",
    "        page_num += 1\n",
    "    else:\n",
    "        next_avail = False   "
   ]
  },
  {
   "cell_type": "code",
   "execution_count": 87,
   "metadata": {
    "ExecuteTime": {
     "end_time": "2022-03-11T23:59:10.347372Z",
     "start_time": "2022-03-11T23:59:10.332564Z"
    }
   },
   "outputs": [],
   "source": [
    "data_dir = \"/Users/Lara/Documents/Stanford/Research/Network/processed_data/\"\n",
    "df = pd.DataFrame(bots)\n",
    "df.to_csv(os.path.join(data_dir, 'all_bots.csv'), index=False)\n"
   ]
  },
  {
   "cell_type": "code",
   "execution_count": 86,
   "metadata": {
    "ExecuteTime": {
     "end_time": "2022-03-11T23:57:51.116207Z",
     "start_time": "2022-03-11T23:57:51.113524Z"
    }
   },
   "outputs": [
    {
     "data": {
      "text/plain": [
       "2005"
      ]
     },
     "execution_count": 86,
     "metadata": {},
     "output_type": "execute_result"
    }
   ],
   "source": [
    "len(set(bots))"
   ]
  },
  {
   "cell_type": "code",
   "execution_count": null,
   "metadata": {},
   "outputs": [],
   "source": []
  }
 ],
 "metadata": {
  "kernelspec": {
   "display_name": "Python 3",
   "language": "python",
   "name": "python3"
  },
  "language_info": {
   "codemirror_mode": {
    "name": "ipython",
    "version": 3
   },
   "file_extension": ".py",
   "mimetype": "text/x-python",
   "name": "python",
   "nbconvert_exporter": "python",
   "pygments_lexer": "ipython3",
   "version": "3.7.3"
  }
 },
 "nbformat": 4,
 "nbformat_minor": 2
}
