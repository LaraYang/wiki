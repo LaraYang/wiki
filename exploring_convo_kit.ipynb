{
 "cells": [
  {
   "cell_type": "code",
   "execution_count": 1,
   "metadata": {},
   "outputs": [],
   "source": [
    "import os\n",
    "from convokit import Corpus"
   ]
  },
  {
   "cell_type": "code",
   "execution_count": 3,
   "metadata": {},
   "outputs": [
    {
     "name": "stdout",
     "output_type": "stream",
     "text": [
      "\u001b[91mWARNING: \u001b[0mCorpusLoadWarning: Missing speaker metadata for speaker ID: None. Initializing default empty metadata instead.\n"
     ]
    }
   ],
   "source": [
    "home_dir = \"/Volumes/Extrema/wiki/conv_data\"\n",
    "corpus = Corpus(filename=os.path.join(home_dir, \"wikiconv-2010\"))"
   ]
  },
  {
   "cell_type": "code",
   "execution_count": 4,
   "metadata": {},
   "outputs": [
    {
     "name": "stdout",
     "output_type": "stream",
     "text": [
      "Number of Speakers: 292369\n",
      "Number of Utterances: 12127566\n",
      "Number of Conversations: 5924823\n"
     ]
    }
   ],
   "source": [
    "corpus.print_summary_stats()"
   ]
  },
  {
   "cell_type": "code",
   "execution_count": 51,
   "metadata": {},
   "outputs": [
    {
     "data": {
      "text/plain": [
       "Speaker({'obj_type': 'speaker', 'meta': {'user_id': '11774368'}, 'vectors': [], 'owner': <convokit.model.corpus.Corpus object at 0x7fb188c2c470>, 'id': 'Allan5366'})"
      ]
     },
     "execution_count": 51,
     "metadata": {},
     "output_type": "execute_result"
    }
   ],
   "source": [
    "corpus.random_speaker()"
   ]
  },
  {
   "cell_type": "code",
   "execution_count": 6,
   "metadata": {},
   "outputs": [],
   "source": [
    "corpus.get_speaker_convo_info('MiszaBot III', '87100293.22357.22357')"
   ]
  },
  {
   "cell_type": "code",
   "execution_count": 34,
   "metadata": {},
   "outputs": [],
   "source": [
    "user_types = set()\n",
    "for i in speaker.iter_conversations():\n",
    "    user_types.add(i.retrieve_meta('page_type'))"
   ]
  },
  {
   "cell_type": "code",
   "execution_count": 23,
   "metadata": {},
   "outputs": [
    {
     "data": {
      "text/plain": [
       "Utterance({'obj_type': 'utterance', 'meta': {'is_section_header': True, 'indentation': '-1', 'toxicity': 0.02153373, 'sever_toxicity': 0.007799939, 'ancestor_id': '366275614.0.0', 'rev_id': '366275614', 'parent_id': None, 'original': None, 'modification': [], 'deletion': [], 'restoration': []}, 'vectors': [], 'speaker': Speaker({'obj_type': 'speaker', 'meta': {'user_id': '11820149'}, 'vectors': [], 'owner': <convokit.model.corpus.Corpus object at 0x7fd7c053e278>, 'id': 'SmokingNewton'}), 'conversation_id': '366275614.0.0', 'reply_to': None, 'timestamp': 1275781295.0, 'text': 'Welcome to Wikipedia', 'owner': <convokit.model.corpus.Corpus object at 0x7fd7c053e278>, 'id': '366275614.0.0'})"
      ]
     },
     "execution_count": 23,
     "metadata": {},
     "output_type": "execute_result"
    }
   ],
   "source": [
    "u = corpus.random_utterance()\n",
    "u "
   ]
  },
  {
   "cell_type": "code",
   "execution_count": 25,
   "metadata": {},
   "outputs": [
    {
     "data": {
      "text/plain": [
       "'366275614.0.0'"
      ]
     },
     "execution_count": 25,
     "metadata": {},
     "output_type": "execute_result"
    }
   ],
   "source": [
    "u.get_speaker()\n",
    "u.get_conversation().get_id()"
   ]
  },
  {
   "cell_type": "code",
   "execution_count": 27,
   "metadata": {},
   "outputs": [
    {
     "data": {
      "text/plain": [
       "Conversation({'obj_type': 'conversation', 'meta': {'page_id': '27614533', 'page_title': 'Neil g mackay', 'page_type': 'user_talk'}, 'vectors': [], 'tree': None, 'owner': <convokit.model.corpus.Corpus object at 0x7fd7c053e278>, 'id': '366275614.0.0'})"
      ]
     },
     "execution_count": 27,
     "metadata": {},
     "output_type": "execute_result"
    }
   ],
   "source": [
    "conv = corpus.get_conversation('366275614.0.0')\n",
    "conv"
   ]
  },
  {
   "cell_type": "code",
   "execution_count": 28,
   "metadata": {},
   "outputs": [
    {
     "name": "stdout",
     "output_type": "stream",
     "text": [
      "Utterance(id: '366275614.0.0', conversation_id: 366275614.0.0, reply-to: None, speaker: Speaker(id: SmokingNewton, vectors: [], meta: {'user_id': '11820149'}), timestamp: 1275781295.0, text: 'Welcome to Wikipedia', vectors: [], meta: {'is_section_header': True, 'indentation': '-1', 'toxicity': 0.02153373, 'sever_toxicity': 0.007799939, 'ancestor_id': '366275614.0.0', 'rev_id': '366275614', 'parent_id': None, 'original': None, 'modification': [], 'deletion': [], 'restoration': []})\n",
      "\n",
      "Utterance(id: '399672511.25.25', conversation_id: 366275614.0.0, reply-to: 366275614.0.0, speaker: Speaker(id: OgreBot, vectors: [], meta: {'user_id': '9536040'}), timestamp: 1291098784.0, text: \" Hello, Neil g mackay, and '''''Welcome to Wikipedia!'''''\\nPlease remember to sign your name on talk pages by clicking  or  or by typing four tildes (~~~~); this will automatically produce your username and the date. Also, please do your best to always fill in the edit summary field. Below are some useful links to facilitate your involvement.\\nHappy editing!   \\n Getting started Introduction\\n The five pillars of Wikipedia\\n How to edit a page\\n Intuitive guide to Wikipedia Finding your way around Table of contents\\n Department directory Editing articles How to develop an article\\n Manual of Style Getting help Frequently asked questions\\n Cheatsheet\\n Where to ask a question\\n Help pages\\n New contributors' help page\\n Article Wizard - a Wizard to help you create articles How you can help Contributing to Wikipedia\\n Community Portal\\n Follow Wikipedia etiquette\\n Practice civility\\n Welcome to Wikipedia. If you have any problems, the Help Page should answer your questions. If not, my  is always available!  \", vectors: [], meta: {'is_section_header': False, 'indentation': '0', 'toxicity': 0.04639696, 'sever_toxicity': 0.0261246, 'ancestor_id': '366275614.25.0', 'rev_id': '366275614', 'parent_id': None, 'original': ({'id': '366275614.25.0', 'root': '366275614.0.0', 'reply_to': '366275614.0.0', 'timestamp': 1275781295.0, 'text': \" Hello, Neil g mackay, and '''''Welcome to Wikipedia!'''''\\nPlease remember to sign your name on talk pages by clicking  or  or by typing four tildes (~~~~); this will automatically produce your username and the date. Also, please do your best to always fill in the edit summary field. Below are some useful links to facilitate your involvement.\\nHappy editing!   \\n Getting started Introduction\\n The five pillars of Wikipedia\\n How to edit a page\\n Intuitive guide to Wikipedia Finding your way around Table of contents\\n Department directory Editing articles How to develop an article\\n Manual of Style Getting help Frequently asked questions\\n Cheatsheet\\n Where to ask a question\\n Help pages\\n New contributors' help page\\n Article Wizard - a Wizard to help you create articles How you can help Contributing to Wikipedia\\n Community Portal\\n Follow Wikipedia etiquette\\n Practice civility\\n Welcome to Wikipedia. If you have any problems, the Help Page should answer your questions. If not, my  is always available!  \", 'meta': {'is_section_header': False, 'indentation': '0', 'toxicity': 0.04639696, 'sever_toxicity': 0.0261246, 'ancestor_id': '366275614.25.0', 'rev_id': '366275614', 'parent_id': None, 'original': None, 'modification': [], 'deletion': [], 'restoration': []}}), 'modification': [({'id': '399672511.25.25', 'root': '366275614.0.0', 'reply_to': '366275614.0.0', 'timestamp': 1291098784.0, 'text': \" Hello, Neil g mackay, and '''''Welcome to Wikipedia!'''''\\nPlease remember to sign your name on talk pages by clicking  or  or by typing four tildes (~~~~); this will automatically produce your username and the date. Also, please do your best to always fill in the edit summary field. Below are some useful links to facilitate your involvement.\\nHappy editing!   \\n Getting started Introduction\\n The five pillars of Wikipedia\\n How to edit a page\\n Intuitive guide to Wikipedia Finding your way around Table of contents\\n Department directory Editing articles How to develop an article\\n Manual of Style Getting help Frequently asked questions\\n Cheatsheet\\n Where to ask a question\\n Help pages\\n New contributors' help page\\n Article Wizard - a Wizard to help you create articles How you can help Contributing to Wikipedia\\n Community Portal\\n Follow Wikipedia etiquette\\n Practice civility\\n Welcome to Wikipedia. If you have any problems, the Help Page should answer your questions. If not, my  is always available!  \", 'meta': {'is_section_header': False, 'indentation': '0', 'toxicity': 0.04639696, 'sever_toxicity': 0.0261246, 'ancestor_id': '366275614.25.0', 'rev_id': '399672511', 'parent_id': '366275614.25.0', 'original': None, 'modification': [], 'deletion': [], 'restoration': []}})], 'deletion': [], 'restoration': []})\n",
      "\n"
     ]
    }
   ],
   "source": [
    "for u in conv.iter_utterances():\n",
    "    print(u)\n",
    "    print()"
   ]
  },
  {
   "cell_type": "code",
   "execution_count": null,
   "metadata": {},
   "outputs": [],
   "source": []
  }
 ],
 "metadata": {
  "kernelspec": {
   "display_name": "Python 3",
   "language": "python",
   "name": "python3"
  },
  "language_info": {
   "codemirror_mode": {
    "name": "ipython",
    "version": 3
   },
   "file_extension": ".py",
   "mimetype": "text/x-python",
   "name": "python",
   "nbconvert_exporter": "python",
   "pygments_lexer": "ipython3",
   "version": "3.7.3"
  }
 },
 "nbformat": 4,
 "nbformat_minor": 2
}
